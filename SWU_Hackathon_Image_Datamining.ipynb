{
  "nbformat": 4,
  "nbformat_minor": 0,
  "metadata": {
    "colab": {
      "name": "SWU Hackathon Image Datamining.ipynb",
      "provenance": [],
      "collapsed_sections": []
    },
    "kernelspec": {
      "name": "python3",
      "display_name": "Python 3"
    }
  },
  "cells": [
    {
      "cell_type": "markdown",
      "metadata": {
        "id": "wlD1sCHo5or2",
        "colab_type": "text"
      },
      "source": [
        "# SWU Hackathon Image Datamining"
      ]
    },
    {
      "cell_type": "markdown",
      "metadata": {
        "id": "HgEHal5D5_uc",
        "colab_type": "text"
      },
      "source": [
        "Install environment stuff."
      ]
    },
    {
      "cell_type": "code",
      "metadata": {
        "id": "gGDJmn4Cid5i",
        "colab_type": "code",
        "outputId": "59a0255a-49cb-4c45-adcc-cbdc4ee416e0",
        "colab": {
          "base_uri": "https://localhost:8080/",
          "height": 663
        }
      },
      "source": [
        "!sudo apt install tesseract-ocr"
      ],
      "execution_count": 0,
      "outputs": [
        {
          "output_type": "stream",
          "text": [
            "Reading package lists... Done\n",
            "Building dependency tree       \n",
            "Reading state information... Done\n",
            "The following package was automatically installed and is no longer required:\n",
            "  libnvidia-common-430\n",
            "Use 'sudo apt autoremove' to remove it.\n",
            "The following additional packages will be installed:\n",
            "  tesseract-ocr-eng tesseract-ocr-osd\n",
            "The following NEW packages will be installed:\n",
            "  tesseract-ocr tesseract-ocr-eng tesseract-ocr-osd\n",
            "0 upgraded, 3 newly installed, 0 to remove and 32 not upgraded.\n",
            "Need to get 4,795 kB of archives.\n",
            "After this operation, 15.8 MB of additional disk space will be used.\n",
            "Get:1 http://archive.ubuntu.com/ubuntu bionic/universe amd64 tesseract-ocr-eng all 4.00~git24-0e00fe6-1.2 [1,588 kB]\n",
            "Get:2 http://archive.ubuntu.com/ubuntu bionic/universe amd64 tesseract-ocr-osd all 4.00~git24-0e00fe6-1.2 [2,989 kB]\n",
            "Get:3 http://archive.ubuntu.com/ubuntu bionic/universe amd64 tesseract-ocr amd64 4.00~git2288-10f4998a-2 [218 kB]\n",
            "Fetched 4,795 kB in 7s (736 kB/s)\n",
            "debconf: unable to initialize frontend: Dialog\n",
            "debconf: (No usable dialog-like program is installed, so the dialog based frontend cannot be used. at /usr/share/perl5/Debconf/FrontEnd/Dialog.pm line 76, <> line 3.)\n",
            "debconf: falling back to frontend: Readline\n",
            "debconf: unable to initialize frontend: Readline\n",
            "debconf: (This frontend requires a controlling tty.)\n",
            "debconf: falling back to frontend: Teletype\n",
            "dpkg-preconfigure: unable to re-open stdin: \n",
            "Selecting previously unselected package tesseract-ocr-eng.\n",
            "(Reading database ... 145605 files and directories currently installed.)\n",
            "Preparing to unpack .../tesseract-ocr-eng_4.00~git24-0e00fe6-1.2_all.deb ...\n",
            "Unpacking tesseract-ocr-eng (4.00~git24-0e00fe6-1.2) ...\n",
            "Selecting previously unselected package tesseract-ocr-osd.\n",
            "Preparing to unpack .../tesseract-ocr-osd_4.00~git24-0e00fe6-1.2_all.deb ...\n",
            "Unpacking tesseract-ocr-osd (4.00~git24-0e00fe6-1.2) ...\n",
            "Selecting previously unselected package tesseract-ocr.\n",
            "Preparing to unpack .../tesseract-ocr_4.00~git2288-10f4998a-2_amd64.deb ...\n",
            "Unpacking tesseract-ocr (4.00~git2288-10f4998a-2) ...\n",
            "Setting up tesseract-ocr-osd (4.00~git24-0e00fe6-1.2) ...\n",
            "Setting up tesseract-ocr-eng (4.00~git24-0e00fe6-1.2) ...\n",
            "Processing triggers for man-db (2.8.3-2ubuntu0.1) ...\n",
            "Setting up tesseract-ocr (4.00~git2288-10f4998a-2) ...\n"
          ],
          "name": "stdout"
        }
      ]
    },
    {
      "cell_type": "code",
      "metadata": {
        "id": "CQ3c8E__glTp",
        "colab_type": "code",
        "outputId": "6027244c-2385-45d4-c5aa-167a5c383d44",
        "colab": {
          "base_uri": "https://localhost:8080/",
          "height": 527
        }
      },
      "source": [
        "!pip install pytesseract delorean bokeh"
      ],
      "execution_count": 0,
      "outputs": [
        {
          "output_type": "stream",
          "text": [
            "Collecting pytesseract\n",
            "  Downloading https://files.pythonhosted.org/packages/47/e5/892d78db0d26372aa376fc1b127e9cd4cc158727a76e0802069115fcbd6e/pytesseract-0.3.0.tar.gz\n",
            "Collecting delorean\n",
            "  Downloading https://files.pythonhosted.org/packages/76/40/5e8d179a0311236b2e83aa1c80b0b363700035ad6639858c75ef5be975e6/Delorean-1.0.0.tar.gz\n",
            "Requirement already satisfied: bokeh in /usr/local/lib/python3.6/dist-packages (1.0.4)\n",
            "Requirement already satisfied: Pillow in /usr/local/lib/python3.6/dist-packages (from pytesseract) (4.3.0)\n",
            "Requirement already satisfied: babel>=2.1.1 in /usr/local/lib/python3.6/dist-packages (from delorean) (2.7.0)\n",
            "Requirement already satisfied: humanize>=0.5.1 in /usr/local/lib/python3.6/dist-packages (from delorean) (0.5.1)\n",
            "Requirement already satisfied: python-dateutil>=2.4.2 in /usr/local/lib/python3.6/dist-packages (from delorean) (2.6.1)\n",
            "Requirement already satisfied: pytz>=2015.7 in /usr/local/lib/python3.6/dist-packages (from delorean) (2018.9)\n",
            "Requirement already satisfied: tzlocal>=1.2 in /usr/local/lib/python3.6/dist-packages (from delorean) (1.5.1)\n",
            "Requirement already satisfied: PyYAML>=3.10 in /usr/local/lib/python3.6/dist-packages (from bokeh) (3.13)\n",
            "Requirement already satisfied: Jinja2>=2.7 in /usr/local/lib/python3.6/dist-packages (from bokeh) (2.10.3)\n",
            "Requirement already satisfied: packaging>=16.8 in /usr/local/lib/python3.6/dist-packages (from bokeh) (19.2)\n",
            "Requirement already satisfied: six>=1.5.2 in /usr/local/lib/python3.6/dist-packages (from bokeh) (1.12.0)\n",
            "Requirement already satisfied: numpy>=1.7.1 in /usr/local/lib/python3.6/dist-packages (from bokeh) (1.17.4)\n",
            "Requirement already satisfied: tornado>=4.3 in /usr/local/lib/python3.6/dist-packages (from bokeh) (4.5.3)\n",
            "Requirement already satisfied: olefile in /usr/local/lib/python3.6/dist-packages (from Pillow->pytesseract) (0.46)\n",
            "Requirement already satisfied: MarkupSafe>=0.23 in /usr/local/lib/python3.6/dist-packages (from Jinja2>=2.7->bokeh) (1.1.1)\n",
            "Requirement already satisfied: pyparsing>=2.0.2 in /usr/local/lib/python3.6/dist-packages (from packaging>=16.8->bokeh) (2.4.5)\n",
            "Building wheels for collected packages: pytesseract, delorean\n",
            "  Building wheel for pytesseract (setup.py) ... \u001b[?25l\u001b[?25hdone\n",
            "  Created wheel for pytesseract: filename=pytesseract-0.3.0-py2.py3-none-any.whl size=20970 sha256=71b4559f0576bb81ee5d5d2d83fb801b439963d6045b461c5a368260c10249cd\n",
            "  Stored in directory: /root/.cache/pip/wheels/78/c9/ac/4cb76bd547f9970070522439e5203ba7926c5c5c4f131583ea\n",
            "  Building wheel for delorean (setup.py) ... \u001b[?25l\u001b[?25hdone\n",
            "  Created wheel for delorean: filename=Delorean-1.0.0-cp36-none-any.whl size=9582 sha256=85ae91add3db1a7f49bd5ea0ca3be54343c6e9316989f6d7c7e98d03dfd0bb8c\n",
            "  Stored in directory: /root/.cache/pip/wheels/74/4d/60/a18094764fce1cc93b9c0060beb3d7254171773fe360b698ef\n",
            "Successfully built pytesseract delorean\n",
            "Installing collected packages: pytesseract, delorean\n",
            "Successfully installed delorean-1.0.0 pytesseract-0.3.0\n"
          ],
          "name": "stdout"
        }
      ]
    },
    {
      "cell_type": "markdown",
      "metadata": {
        "id": "omU4VU8i6F71",
        "colab_type": "text"
      },
      "source": [
        "Package imports."
      ]
    },
    {
      "cell_type": "code",
      "metadata": {
        "id": "QUBk1Fi853Qj",
        "colab_type": "code",
        "colab": {}
      },
      "source": [
        "from PIL import Image\n",
        "import pytesseract\n",
        "import numpy as np\n",
        "import PIL\n",
        "import pandas as pd\n",
        "from delorean import Delorean\n",
        "import requests\n",
        "from io import BytesIO \n",
        "import math\n",
        "from datetime import timedelta\n",
        "import re"
      ],
      "execution_count": 0,
      "outputs": []
    },
    {
      "cell_type": "markdown",
      "metadata": {
        "id": "0xR0mqzV6I4l",
        "colab_type": "text"
      },
      "source": [
        "Define constants."
      ]
    },
    {
      "cell_type": "code",
      "metadata": {
        "id": "FprNgHargR4n",
        "colab_type": "code",
        "colab": {}
      },
      "source": [
        "PIXELS_PER_DAY = 217\n",
        "SECONDS_PER_PIXEL = 86400 / PIXELS_PER_DAY"
      ],
      "execution_count": 0,
      "outputs": []
    },
    {
      "cell_type": "markdown",
      "metadata": {
        "id": "8woDFyOh6Nh9",
        "colab_type": "text"
      },
      "source": [
        "Grab image."
      ]
    },
    {
      "cell_type": "code",
      "metadata": {
        "id": "TJwfmXt2Tu_9",
        "colab_type": "code",
        "outputId": "727bc5ff-0a2e-49d6-b620-74f82623c6a3",
        "colab": {
          "base_uri": "https://localhost:8080/",
          "height": 443
        }
      },
      "source": [
        "graphic_with_prediction_url = 'https://www.hnd.bayern.de/webservices/graphik.php?cache=hnd&statnr=10026301&thema=hochwasser.hauptwerte&wert=abfluss&trend=false&days=1&geber=25'\n",
        "response = requests.get(graphic_with_prediction_url) \n",
        "with_prediction_img = Image.open(BytesIO(response.content))\n",
        "with_prediction_img"
      ],
      "execution_count": 0,
      "outputs": [
        {
          "output_type": "execute_result",
          "data": {
            "image/png": "[encoded data removed]",
            "text/plain": [
              "<PIL.PngImagePlugin.PngImageFile image mode=RGB size=600x426 at 0x7F9456088A58>"
            ]
          },
          "metadata": {
            "tags": []
          },
          "execution_count": 9
        }
      ]
    },
    {
      "cell_type": "markdown",
      "metadata": {
        "id": "RtqlUQx86Vs3",
        "colab_type": "text"
      },
      "source": [
        "Extract image parts."
      ]
    },
    {
      "cell_type": "code",
      "metadata": {
        "id": "DfBkafVkhxEX",
        "colab_type": "code",
        "outputId": "fec40791-cdd2-483b-8bd7-76057c67db5a",
        "colab": {
          "base_uri": "https://localhost:8080/",
          "height": 374
        }
      },
      "source": [
        "axis_y_img = with_prediction_img.crop((20, 22, 50, 379))\n",
        "axis_y_img"
      ],
      "execution_count": 0,
      "outputs": [
        {
          "output_type": "execute_result",
          "data": {
            "image/png": "[encoded data removed]",
            "text/plain": [
              "<PIL.Image.Image image mode=RGB size=30x357 at 0x7F9456088B00>"
            ]
          },
          "metadata": {
            "tags": []
          },
          "execution_count": 10
        }
      ]
    },
    {
      "cell_type": "code",
      "metadata": {
        "id": "43RuVs2KUfa3",
        "colab_type": "code",
        "outputId": "67472d89-d8fc-4cd2-a1a4-4027e7d63483",
        "colab": {
          "base_uri": "https://localhost:8080/",
          "height": 348
        }
      },
      "source": [
        "data_points_with_prediction_img = with_prediction_img.crop((61, 40, 540, 371))\n",
        "data_points_with_prediction_img"
      ],
      "execution_count": 0,
      "outputs": [
        {
          "output_type": "execute_result",
          "data": {
            "image/png": "[encoded data removed]",
            "text/plain": [
              "<PIL.Image.Image image mode=RGB size=479x331 at 0x7F9456088518>"
            ]
          },
          "metadata": {
            "tags": []
          },
          "execution_count": 11
        }
      ]
    },
    {
      "cell_type": "markdown",
      "metadata": {
        "id": "voAz--HI7GpI",
        "colab_type": "text"
      },
      "source": [
        "# Data extraction & polish."
      ]
    },
    {
      "cell_type": "code",
      "metadata": {
        "id": "hqbq4F-Ah0EP",
        "colab_type": "code",
        "outputId": "37608e3e-39ef-45f7-82e1-4f7b4aac97d6",
        "colab": {
          "base_uri": "https://localhost:8080/",
          "height": 34
        }
      },
      "source": [
        "non_decimal = re.compile(r'[^\\d.]+')\n",
        "non_decimal.sub\n",
        "\n",
        "axis_y_values = pytesseract.image_to_string(axis_y_img)\n",
        "axis_y_values = filter(lambda x: x != '', axis_y_values.split('\\n'))\n",
        "axis_y_values = map(lambda x: non_decimal.sub('', x), axis_y_values)\n",
        "axis_y_values = map(float, axis_y_values)\n",
        "axis_y_values = list(axis_y_values)\n",
        "max_y_value = axis_y_values[0] \n",
        "max_y_value"
      ],
      "execution_count": 0,
      "outputs": [
        {
          "output_type": "execute_result",
          "data": {
            "text/plain": [
              "100.0"
            ]
          },
          "metadata": {
            "tags": []
          },
          "execution_count": 12
        }
      ]
    },
    {
      "cell_type": "code",
      "metadata": {
        "id": "5H_Hnpw6moS7",
        "colab_type": "code",
        "colab": {}
      },
      "source": [
        "min_y_value = 0"
      ],
      "execution_count": 0,
      "outputs": []
    },
    {
      "cell_type": "code",
      "metadata": {
        "id": "lISObQ2mqU_a",
        "colab_type": "code",
        "outputId": "2e8e71cc-d4e3-4275-9215-f5951a8a5f0c",
        "colab": {
          "base_uri": "https://localhost:8080/",
          "height": 34
        }
      },
      "source": [
        "amount_per_px_ratio = max_y_value/data_points_with_prediction_img.size[1]\n",
        "# Rundungsfehler?\n",
        "# For prediction\n",
        "amount_per_px_ratio"
      ],
      "execution_count": 0,
      "outputs": [
        {
          "output_type": "execute_result",
          "data": {
            "text/plain": [
              "0.3021148036253776"
            ]
          },
          "metadata": {
            "tags": []
          },
          "execution_count": 14
        }
      ]
    },
    {
      "cell_type": "code",
      "metadata": {
        "id": "yjYiNCRDvvT_",
        "colab_type": "code",
        "outputId": "5f017fce-5aef-47fa-e731-c23316a6d345",
        "colab": {
          "base_uri": "https://localhost:8080/",
          "height": 348
        }
      },
      "source": [
        "#data_points_img = img.crop((61, 22, 540, 371))\n",
        "data_points_with_prediction_img"
      ],
      "execution_count": 0,
      "outputs": [
        {
          "output_type": "execute_result",
          "data": {
            "image/png": "[encoded data removed]",
            "text/plain": [
              "<PIL.Image.Image image mode=RGB size=479x331 at 0x7F9456088518>"
            ]
          },
          "metadata": {
            "tags": []
          },
          "execution_count": 15
        }
      ]
    },
    {
      "cell_type": "markdown",
      "metadata": {
        "id": "HJneiTfA7MPq",
        "colab_type": "text"
      },
      "source": [
        "# Extract data points from image."
      ]
    },
    {
      "cell_type": "code",
      "metadata": {
        "id": "sECDakijasqA",
        "colab_type": "code",
        "outputId": "8897ecd2-e74a-4241-a2d0-98367baa1ef8",
        "colab": {
          "base_uri": "https://localhost:8080/",
          "height": 365
        }
      },
      "source": [
        "data_points_with_prediction_manip_img = data_points_with_prediction_img.copy()\n",
        "pixels = data_points_with_prediction_manip_img.load() # create the pixel map\n",
        "\n",
        "width = data_points_with_prediction_manip_img.size[0]\n",
        "height = data_points_with_prediction_manip_img.size[1]\n",
        "\n",
        "def get_pixel_brightness(pixel):\n",
        "  return sum(pixel) / 3\n",
        "\n",
        "print(width, height)\n",
        "\n",
        "# List of tuples.\n",
        "# 1: Pred. max, pred. min, pred / red)\n",
        "column_info_list = list()\n",
        "for i in range(0, width):    # for every col:i = 3  x_axis_count\n",
        "\n",
        "  column_info = [math.nan, math.nan, math.nan]\n",
        "  \n",
        "  for j in range(0, height):    # For every row\n",
        "    pixel = pixels[i,j]\n",
        "\n",
        "    # Recolor pixels\n",
        "\n",
        "    # Dunkelblau -> schwarz\n",
        "    if (pixel == (255,255,255)):\n",
        "      pixels[i,j] = (0,0,0)\n",
        "\n",
        "    # Dunkelblau -> schwarz\n",
        "    if (pixel == (24,116,205)):\n",
        "      pixels[i,j] = (0,0,0)\n",
        "    # Dunkelblau -> schwarz\n",
        "    if (pixel == (42, 170, 255)):\n",
        "      pixels[i,j] = (0,0,0)\n",
        "   \n",
        "    if (pixel == (181,181,181)):\n",
        "      pixels[i,j] = (0,0,0)\n",
        "\n",
        "    if (pixel == (114,114,114)):\n",
        "      pixels[i,j] = (0,0,0)\n",
        "\n",
        "    if (pixel == (115, 160, 160)):\n",
        "      pixels[i,j] = (184, 255, 255)\n",
        "\n",
        "    if (pixel == (11, 67, 68)):\n",
        "      pixels[i,j] = (19, 107, 109)\n",
        "\n",
        "    if (pixel == (237, 237, 237)):\n",
        "      pixels[i,j] = (255, 255, 255)\n",
        "\n",
        "    if (pixel == (19, 107, 109)):\n",
        "      pixels[i,j] = (255, 0, 0)\n",
        "\n",
        "    pixel = pixels[i,j]\n",
        "\n",
        "    is_blue = pixel == (184, 255, 255)\n",
        "    is_red = pixel == (255, 0, 0)\n",
        "\n",
        "    normalized_y = height - j\n",
        "\n",
        "    if is_blue:\n",
        "      if math.isnan(column_info[0]):\n",
        "        column_info[0] = normalized_y\n",
        "      column_info[1] = normalized_y\n",
        "     \n",
        "    if is_red:\n",
        "      column_info[2] = normalized_y\n",
        "\n",
        "  column_info_list.append(column_info)\n",
        "\n",
        "data_points_with_prediction_manip_img\n",
        "\n"
      ],
      "execution_count": 0,
      "outputs": [
        {
          "output_type": "stream",
          "text": [
            "479 331\n"
          ],
          "name": "stdout"
        },
        {
          "output_type": "execute_result",
          "data": {
            "image/png": "[encoded data removed]",
            "text/plain": [
              "<PIL.Image.Image image mode=RGB size=479x331 at 0x7F945580FD68>"
            ]
          },
          "metadata": {
            "tags": []
          },
          "execution_count": 16
        }
      ]
    },
    {
      "cell_type": "code",
      "metadata": {
        "id": "gfb-xcIdhynt",
        "colab_type": "code",
        "outputId": "dc51b6d5-0039-4cb1-cc52-583a00a30641",
        "colab": {
          "base_uri": "https://localhost:8080/",
          "height": 136
        }
      },
      "source": [
        "y_vals = np.array(column_info_list) * amount_per_px_ratio\n",
        "y_vals"
      ],
      "execution_count": 0,
      "outputs": [
        {
          "output_type": "execute_result",
          "data": {
            "text/plain": [
              "array([[75.52870091, 64.04833837, 67.97583082],\n",
              "       [75.52870091, 63.74622356, 67.97583082],\n",
              "       [75.52870091, 63.44410876, 67.67371601],\n",
              "       ...,\n",
              "       [77.64350453, 51.96374622, 64.65256798],\n",
              "       [77.64350453, 51.96374622, 64.65256798],\n",
              "       [77.64350453, 51.96374622, 64.65256798]])"
            ]
          },
          "metadata": {
            "tags": []
          },
          "execution_count": 17
        }
      ]
    },
    {
      "cell_type": "code",
      "metadata": {
        "id": "QZjarSTAjVlv",
        "colab_type": "code",
        "outputId": "65f1b90f-0fdc-4fdd-820f-d541cc9848cf",
        "colab": {
          "base_uri": "https://localhost:8080/",
          "height": 419
        }
      },
      "source": [
        "start_of_day = Delorean().truncate('day')\n",
        "\n",
        "prediction_df = pd.DataFrame(y_vals, columns=['PredHigh', 'PredLow', \"Pred\"]).reset_index().dropna()\n",
        "prediction_df"
      ],
      "execution_count": 0,
      "outputs": [
        {
          "output_type": "execute_result",
          "data": {
            "text/html": [
              "<div>\n",
              "<style scoped>\n",
              "    .dataframe tbody tr th:only-of-type {\n",
              "        vertical-align: middle;\n",
              "    }\n",
              "\n",
              "    .dataframe tbody tr th {\n",
              "        vertical-align: top;\n",
              "    }\n",
              "\n",
              "    .dataframe thead th {\n",
              "        text-align: right;\n",
              "    }\n",
              "</style>\n",
              "<table border=\"1\" class=\"dataframe\">\n",
              "  <thead>\n",
              "    <tr style=\"text-align: right;\">\n",
              "      <th></th>\n",
              "      <th>index</th>\n",
              "      <th>PredHigh</th>\n",
              "      <th>PredLow</th>\n",
              "      <th>Pred</th>\n",
              "    </tr>\n",
              "  </thead>\n",
              "  <tbody>\n",
              "    <tr>\n",
              "      <th>0</th>\n",
              "      <td>0</td>\n",
              "      <td>75.528701</td>\n",
              "      <td>64.048338</td>\n",
              "      <td>67.975831</td>\n",
              "    </tr>\n",
              "    <tr>\n",
              "      <th>1</th>\n",
              "      <td>1</td>\n",
              "      <td>75.528701</td>\n",
              "      <td>63.746224</td>\n",
              "      <td>67.975831</td>\n",
              "    </tr>\n",
              "    <tr>\n",
              "      <th>2</th>\n",
              "      <td>2</td>\n",
              "      <td>75.528701</td>\n",
              "      <td>63.444109</td>\n",
              "      <td>67.673716</td>\n",
              "    </tr>\n",
              "    <tr>\n",
              "      <th>3</th>\n",
              "      <td>3</td>\n",
              "      <td>75.528701</td>\n",
              "      <td>62.839879</td>\n",
              "      <td>67.673716</td>\n",
              "    </tr>\n",
              "    <tr>\n",
              "      <th>4</th>\n",
              "      <td>4</td>\n",
              "      <td>75.528701</td>\n",
              "      <td>62.537764</td>\n",
              "      <td>67.673716</td>\n",
              "    </tr>\n",
              "    <tr>\n",
              "      <th>...</th>\n",
              "      <td>...</td>\n",
              "      <td>...</td>\n",
              "      <td>...</td>\n",
              "      <td>...</td>\n",
              "    </tr>\n",
              "    <tr>\n",
              "      <th>474</th>\n",
              "      <td>474</td>\n",
              "      <td>77.643505</td>\n",
              "      <td>51.963746</td>\n",
              "      <td>64.652568</td>\n",
              "    </tr>\n",
              "    <tr>\n",
              "      <th>475</th>\n",
              "      <td>475</td>\n",
              "      <td>77.643505</td>\n",
              "      <td>51.963746</td>\n",
              "      <td>64.652568</td>\n",
              "    </tr>\n",
              "    <tr>\n",
              "      <th>476</th>\n",
              "      <td>476</td>\n",
              "      <td>77.643505</td>\n",
              "      <td>51.963746</td>\n",
              "      <td>64.652568</td>\n",
              "    </tr>\n",
              "    <tr>\n",
              "      <th>477</th>\n",
              "      <td>477</td>\n",
              "      <td>77.643505</td>\n",
              "      <td>51.963746</td>\n",
              "      <td>64.652568</td>\n",
              "    </tr>\n",
              "    <tr>\n",
              "      <th>478</th>\n",
              "      <td>478</td>\n",
              "      <td>77.643505</td>\n",
              "      <td>51.963746</td>\n",
              "      <td>64.652568</td>\n",
              "    </tr>\n",
              "  </tbody>\n",
              "</table>\n",
              "<p>479 rows × 4 columns</p>\n",
              "</div>"
            ],
            "text/plain": [
              "     index   PredHigh    PredLow       Pred\n",
              "0        0  75.528701  64.048338  67.975831\n",
              "1        1  75.528701  63.746224  67.975831\n",
              "2        2  75.528701  63.444109  67.673716\n",
              "3        3  75.528701  62.839879  67.673716\n",
              "4        4  75.528701  62.537764  67.673716\n",
              "..     ...        ...        ...        ...\n",
              "474    474  77.643505  51.963746  64.652568\n",
              "475    475  77.643505  51.963746  64.652568\n",
              "476    476  77.643505  51.963746  64.652568\n",
              "477    477  77.643505  51.963746  64.652568\n",
              "478    478  77.643505  51.963746  64.652568\n",
              "\n",
              "[479 rows x 4 columns]"
            ]
          },
          "metadata": {
            "tags": []
          },
          "execution_count": 18
        }
      ]
    },
    {
      "cell_type": "code",
      "metadata": {
        "id": "aAQSNxp-mDQ1",
        "colab_type": "code",
        "colab": {}
      },
      "source": [
        ""
      ],
      "execution_count": 0,
      "outputs": []
    },
    {
      "cell_type": "code",
      "metadata": {
        "id": "wS4nZOMflnWY",
        "colab_type": "code",
        "colab": {}
      },
      "source": [
        "prediction_df['Timestamp'] = prediction_df.apply(lambda row: start_of_day + timedelta(seconds=SECONDS_PER_PIXEL*row['index']), axis=1)\n",
        "prediction_df['Timestamp'] = prediction_df.apply(lambda row: row['Timestamp'].datetime, axis=1)\n",
        "prediction_df['Readable Timestamp'] = prediction_df.apply(lambda row: row['Timestamp'].strftime(\"%m/%d/%Y, %H:%M:%S\"), axis=1)\n",
        "prediction_df = prediction_df.tail(len(prediction_df) - 1)"
      ],
      "execution_count": 0,
      "outputs": []
    },
    {
      "cell_type": "code",
      "metadata": {
        "id": "ElC78BETsTIq",
        "colab_type": "code",
        "outputId": "c55b031a-e87b-4d95-e833-11e13df60787",
        "colab": {
          "base_uri": "https://localhost:8080/",
          "height": 419
        }
      },
      "source": [
        "prediction_df"
      ],
      "execution_count": 0,
      "outputs": [
        {
          "output_type": "execute_result",
          "data": {
            "text/html": [
              "<div>\n",
              "<style scoped>\n",
              "    .dataframe tbody tr th:only-of-type {\n",
              "        vertical-align: middle;\n",
              "    }\n",
              "\n",
              "    .dataframe tbody tr th {\n",
              "        vertical-align: top;\n",
              "    }\n",
              "\n",
              "    .dataframe thead th {\n",
              "        text-align: right;\n",
              "    }\n",
              "</style>\n",
              "<table border=\"1\" class=\"dataframe\">\n",
              "  <thead>\n",
              "    <tr style=\"text-align: right;\">\n",
              "      <th></th>\n",
              "      <th>index</th>\n",
              "      <th>PredHigh</th>\n",
              "      <th>PredLow</th>\n",
              "      <th>Pred</th>\n",
              "      <th>Timestamp</th>\n",
              "      <th>Readable Timestamp</th>\n",
              "    </tr>\n",
              "  </thead>\n",
              "  <tbody>\n",
              "    <tr>\n",
              "      <th>1</th>\n",
              "      <td>1</td>\n",
              "      <td>75.528701</td>\n",
              "      <td>63.746224</td>\n",
              "      <td>67.975831</td>\n",
              "      <td>2019-11-23 00:06:38.156682+00:00</td>\n",
              "      <td>11/23/2019, 00:06:38</td>\n",
              "    </tr>\n",
              "    <tr>\n",
              "      <th>2</th>\n",
              "      <td>2</td>\n",
              "      <td>75.528701</td>\n",
              "      <td>63.444109</td>\n",
              "      <td>67.673716</td>\n",
              "      <td>2019-11-23 00:13:16.313364+00:00</td>\n",
              "      <td>11/23/2019, 00:13:16</td>\n",
              "    </tr>\n",
              "    <tr>\n",
              "      <th>3</th>\n",
              "      <td>3</td>\n",
              "      <td>75.528701</td>\n",
              "      <td>62.839879</td>\n",
              "      <td>67.673716</td>\n",
              "      <td>2019-11-23 00:19:54.470046+00:00</td>\n",
              "      <td>11/23/2019, 00:19:54</td>\n",
              "    </tr>\n",
              "    <tr>\n",
              "      <th>4</th>\n",
              "      <td>4</td>\n",
              "      <td>75.528701</td>\n",
              "      <td>62.537764</td>\n",
              "      <td>67.673716</td>\n",
              "      <td>2019-11-23 00:26:32.626728+00:00</td>\n",
              "      <td>11/23/2019, 00:26:32</td>\n",
              "    </tr>\n",
              "    <tr>\n",
              "      <th>5</th>\n",
              "      <td>5</td>\n",
              "      <td>75.528701</td>\n",
              "      <td>62.235650</td>\n",
              "      <td>67.673716</td>\n",
              "      <td>2019-11-23 00:33:10.783410+00:00</td>\n",
              "      <td>11/23/2019, 00:33:10</td>\n",
              "    </tr>\n",
              "    <tr>\n",
              "      <th>...</th>\n",
              "      <td>...</td>\n",
              "      <td>...</td>\n",
              "      <td>...</td>\n",
              "      <td>...</td>\n",
              "      <td>...</td>\n",
              "      <td>...</td>\n",
              "    </tr>\n",
              "    <tr>\n",
              "      <th>474</th>\n",
              "      <td>474</td>\n",
              "      <td>77.643505</td>\n",
              "      <td>51.963746</td>\n",
              "      <td>64.652568</td>\n",
              "      <td>2019-11-25 04:25:26.267281+00:00</td>\n",
              "      <td>11/25/2019, 04:25:26</td>\n",
              "    </tr>\n",
              "    <tr>\n",
              "      <th>475</th>\n",
              "      <td>475</td>\n",
              "      <td>77.643505</td>\n",
              "      <td>51.963746</td>\n",
              "      <td>64.652568</td>\n",
              "      <td>2019-11-25 04:32:04.423963+00:00</td>\n",
              "      <td>11/25/2019, 04:32:04</td>\n",
              "    </tr>\n",
              "    <tr>\n",
              "      <th>476</th>\n",
              "      <td>476</td>\n",
              "      <td>77.643505</td>\n",
              "      <td>51.963746</td>\n",
              "      <td>64.652568</td>\n",
              "      <td>2019-11-25 04:38:42.580645+00:00</td>\n",
              "      <td>11/25/2019, 04:38:42</td>\n",
              "    </tr>\n",
              "    <tr>\n",
              "      <th>477</th>\n",
              "      <td>477</td>\n",
              "      <td>77.643505</td>\n",
              "      <td>51.963746</td>\n",
              "      <td>64.652568</td>\n",
              "      <td>2019-11-25 04:45:20.737327+00:00</td>\n",
              "      <td>11/25/2019, 04:45:20</td>\n",
              "    </tr>\n",
              "    <tr>\n",
              "      <th>478</th>\n",
              "      <td>478</td>\n",
              "      <td>77.643505</td>\n",
              "      <td>51.963746</td>\n",
              "      <td>64.652568</td>\n",
              "      <td>2019-11-25 04:51:58.894009+00:00</td>\n",
              "      <td>11/25/2019, 04:51:58</td>\n",
              "    </tr>\n",
              "  </tbody>\n",
              "</table>\n",
              "<p>478 rows × 6 columns</p>\n",
              "</div>"
            ],
            "text/plain": [
              "     index   PredHigh  ...                        Timestamp    Readable Timestamp\n",
              "1        1  75.528701  ... 2019-11-23 00:06:38.156682+00:00  11/23/2019, 00:06:38\n",
              "2        2  75.528701  ... 2019-11-23 00:13:16.313364+00:00  11/23/2019, 00:13:16\n",
              "3        3  75.528701  ... 2019-11-23 00:19:54.470046+00:00  11/23/2019, 00:19:54\n",
              "4        4  75.528701  ... 2019-11-23 00:26:32.626728+00:00  11/23/2019, 00:26:32\n",
              "5        5  75.528701  ... 2019-11-23 00:33:10.783410+00:00  11/23/2019, 00:33:10\n",
              "..     ...        ...  ...                              ...                   ...\n",
              "474    474  77.643505  ... 2019-11-25 04:25:26.267281+00:00  11/25/2019, 04:25:26\n",
              "475    475  77.643505  ... 2019-11-25 04:32:04.423963+00:00  11/25/2019, 04:32:04\n",
              "476    476  77.643505  ... 2019-11-25 04:38:42.580645+00:00  11/25/2019, 04:38:42\n",
              "477    477  77.643505  ... 2019-11-25 04:45:20.737327+00:00  11/25/2019, 04:45:20\n",
              "478    478  77.643505  ... 2019-11-25 04:51:58.894009+00:00  11/25/2019, 04:51:58\n",
              "\n",
              "[478 rows x 6 columns]"
            ]
          },
          "metadata": {
            "tags": []
          },
          "execution_count": 20
        }
      ]
    },
    {
      "cell_type": "markdown",
      "metadata": {
        "id": "ILBGsKN37a-M",
        "colab_type": "text"
      },
      "source": [
        "Visualize extracted data."
      ]
    },
    {
      "cell_type": "code",
      "metadata": {
        "id": "IRhQffZppHu_",
        "colab_type": "code",
        "outputId": "6998fe85-1c59-4f3c-8262-6f047f790848",
        "colab": {
          "base_uri": "https://localhost:8080/",
          "height": 617
        }
      },
      "source": [
        "from bokeh.plotting import figure, output_file, show\n",
        "from bokeh.io import output_notebook\n",
        "from bokeh.models import DatetimeTickFormatter\n",
        "output_notebook()\n",
        "\n",
        "plot = figure(title='Sample Graph',x_axis_label = 'Timestamp',y_axis_label = 'Value', x_range=((start_of_day).datetime, (start_of_day + timedelta(days=3)).datetime), y_range=(0, max_y_value), x_axis_type='datetime')\n",
        "\n",
        "plot.xaxis.formatter=DatetimeTickFormatter(\n",
        "        hours=[\"%d %B %Y\"],\n",
        "        days=[\"%d %B %Y\"],\n",
        "        months=[\"%d %B %Y\"],\n",
        "        years=[\"%d %B %Y\"],\n",
        "    )\n",
        "\n",
        "plot.line(prediction_df['Timestamp'], prediction_df['Pred'], line_width=2, line_color = 'red')\n",
        "plot.line(prediction_df['Timestamp'], prediction_df['PredHigh'], line_width=2, line_color = 'blue')\n",
        "plot.line(prediction_df['Timestamp'], prediction_df['PredLow'], line_width=2, line_color = 'blue')\n",
        "show(plot)"
      ],
      "execution_count": 0,
      "outputs": [
        {
          "output_type": "display_data",
          "data": {
            "application/javascript": [
              "\n",
              "(function(root) {\n",
              "  function now() {\n",
              "    return new Date();\n",
              "  }\n",
              "\n",
              "  var force = true;\n",
              "\n",
              "  if (typeof (root._bokeh_onload_callbacks) === \"undefined\" || force === true) {\n",
              "    root._bokeh_onload_callbacks = [];\n",
              "    root._bokeh_is_loading = undefined;\n",
              "  }\n",
              "\n",
              "  var JS_MIME_TYPE = 'application/javascript';\n",
              "  var HTML_MIME_TYPE = 'text/html';\n",
              "  var EXEC_MIME_TYPE = 'application/vnd.bokehjs_exec.v0+json';\n",
              "  var CLASS_NAME = 'output_bokeh rendered_html';\n",
              "\n",
              "  /**\n",
              "   * Render data to the DOM node\n",
              "   */\n",
              "  function render(props, node) {\n",
              "    var script = document.createElement(\"script\");\n",
              "    node.appendChild(script);\n",
              "  }\n",
              "\n",
              "  /**\n",
              "   * Handle when an output is cleared or removed\n",
              "   */\n",
              "  function handleClearOutput(event, handle) {\n",
              "    var cell = handle.cell;\n",
              "\n",
              "    var id = cell.output_area._bokeh_element_id;\n",
              "    var server_id = cell.output_area._bokeh_server_id;\n",
              "    // Clean up Bokeh references\n",
              "    if (id != null && id in Bokeh.index) {\n",
              "      Bokeh.index[id].model.document.clear();\n",
              "      delete Bokeh.index[id];\n",
              "    }\n",
              "\n",
              "    if (server_id !== undefined) {\n",
              "      // Clean up Bokeh references\n",
              "      var cmd = \"from bokeh.io.state import curstate; print(curstate().uuid_to_server['\" + server_id + \"'].get_sessions()[0].document.roots[0]._id)\";\n",
              "      cell.notebook.kernel.execute(cmd, {\n",
              "        iopub: {\n",
              "          output: function(msg) {\n",
              "            var id = msg.content.text.trim();\n",
              "            if (id in Bokeh.index) {\n",
              "              Bokeh.index[id].model.document.clear();\n",
              "              delete Bokeh.index[id];\n",
              "            }\n",
              "          }\n",
              "        }\n",
              "      });\n",
              "      // Destroy server and session\n",
              "      var cmd = \"import bokeh.io.notebook as ion; ion.destroy_server('\" + server_id + \"')\";\n",
              "      cell.notebook.kernel.execute(cmd);\n",
              "    }\n",
              "  }\n",
              "\n",
              "  /**\n",
              "   * Handle when a new output is added\n",
              "   */\n",
              "  function handleAddOutput(event, handle) {\n",
              "    var output_area = handle.output_area;\n",
              "    var output = handle.output;\n",
              "\n",
              "    // limit handleAddOutput to display_data with EXEC_MIME_TYPE content only\n",
              "    if ((output.output_type != \"display_data\") || (!output.data.hasOwnProperty(EXEC_MIME_TYPE))) {\n",
              "      return\n",
              "    }\n",
              "\n",
              "    var toinsert = output_area.element.find(\".\" + CLASS_NAME.split(' ')[0]);\n",
              "\n",
              "    if (output.metadata[EXEC_MIME_TYPE][\"id\"] !== undefined) {\n",
              "      toinsert[toinsert.length - 1].firstChild.textContent = output.data[JS_MIME_TYPE];\n",
              "      // store reference to embed id on output_area\n",
              "      output_area._bokeh_element_id = output.metadata[EXEC_MIME_TYPE][\"id\"];\n",
              "    }\n",
              "    if (output.metadata[EXEC_MIME_TYPE][\"server_id\"] !== undefined) {\n",
              "      var bk_div = document.createElement(\"div\");\n",
              "      bk_div.innerHTML = output.data[HTML_MIME_TYPE];\n",
              "      var script_attrs = bk_div.children[0].attributes;\n",
              "      for (var i = 0; i < script_attrs.length; i++) {\n",
              "        toinsert[toinsert.length - 1].firstChild.setAttribute(script_attrs[i].name, script_attrs[i].value);\n",
              "      }\n",
              "      // store reference to server id on output_area\n",
              "      output_area._bokeh_server_id = output.metadata[EXEC_MIME_TYPE][\"server_id\"];\n",
              "    }\n",
              "  }\n",
              "\n",
              "  function register_renderer(events, OutputArea) {\n",
              "\n",
              "    function append_mime(data, metadata, element) {\n",
              "      // create a DOM node to render to\n",
              "      var toinsert = this.create_output_subarea(\n",
              "        metadata,\n",
              "        CLASS_NAME,\n",
              "        EXEC_MIME_TYPE\n",
              "      );\n",
              "      this.keyboard_manager.register_events(toinsert);\n",
              "      // Render to node\n",
              "      var props = {data: data, metadata: metadata[EXEC_MIME_TYPE]};\n",
              "      render(props, toinsert[toinsert.length - 1]);\n",
              "      element.append(toinsert);\n",
              "      return toinsert\n",
              "    }\n",
              "\n",
              "    /* Handle when an output is cleared or removed */\n",
              "    events.on('clear_output.CodeCell', handleClearOutput);\n",
              "    events.on('delete.Cell', handleClearOutput);\n",
              "\n",
              "    /* Handle when a new output is added */\n",
              "    events.on('output_added.OutputArea', handleAddOutput);\n",
              "\n",
              "    /**\n",
              "     * Register the mime type and append_mime function with output_area\n",
              "     */\n",
              "    OutputArea.prototype.register_mime_type(EXEC_MIME_TYPE, append_mime, {\n",
              "      /* Is output safe? */\n",
              "      safe: true,\n",
              "      /* Index of renderer in `output_area.display_order` */\n",
              "      index: 0\n",
              "    });\n",
              "  }\n",
              "\n",
              "  // register the mime type if in Jupyter Notebook environment and previously unregistered\n",
              "  if (root.Jupyter !== undefined) {\n",
              "    var events = require('base/js/events');\n",
              "    var OutputArea = require('notebook/js/outputarea').OutputArea;\n",
              "\n",
              "    if (OutputArea.prototype.mime_types().indexOf(EXEC_MIME_TYPE) == -1) {\n",
              "      register_renderer(events, OutputArea);\n",
              "    }\n",
              "  }\n",
              "\n",
              "  \n",
              "  if (typeof (root._bokeh_timeout) === \"undefined\" || force === true) {\n",
              "    root._bokeh_timeout = Date.now() + 5000;\n",
              "    root._bokeh_failed_load = false;\n",
              "  }\n",
              "\n",
              "  var NB_LOAD_WARNING = {'data': {'text/html':\n",
              "     \"<div style='background-color: #fdd'>\\n\"+\n",
              "     \"<p>\\n\"+\n",
              "     \"BokehJS does not appear to have successfully loaded. If loading BokehJS from CDN, this \\n\"+\n",
              "     \"may be due to a slow or bad network connection. Possible fixes:\\n\"+\n",
              "     \"</p>\\n\"+\n",
              "     \"<ul>\\n\"+\n",
              "     \"<li>re-rerun `output_notebook()` to attempt to load from CDN again, or</li>\\n\"+\n",
              "     \"<li>use INLINE resources instead, as so:</li>\\n\"+\n",
              "     \"</ul>\\n\"+\n",
              "     \"<code>\\n\"+\n",
              "     \"from bokeh.resources import INLINE\\n\"+\n",
              "     \"output_notebook(resources=INLINE)\\n\"+\n",
              "     \"</code>\\n\"+\n",
              "     \"</div>\"}};\n",
              "\n",
              "  function display_loaded() {\n",
              "    var el = document.getElementById(null);\n",
              "    if (el != null) {\n",
              "      el.textContent = \"BokehJS is loading...\";\n",
              "    }\n",
              "    if (root.Bokeh !== undefined) {\n",
              "      if (el != null) {\n",
              "        el.textContent = \"BokehJS \" + root.Bokeh.version + \" successfully loaded.\";\n",
              "      }\n",
              "    } else if (Date.now() < root._bokeh_timeout) {\n",
              "      setTimeout(display_loaded, 100)\n",
              "    }\n",
              "  }\n",
              "\n",
              "\n",
              "  function run_callbacks() {\n",
              "    try {\n",
              "      root._bokeh_onload_callbacks.forEach(function(callback) { callback() });\n",
              "    }\n",
              "    finally {\n",
              "      delete root._bokeh_onload_callbacks\n",
              "    }\n",
              "    console.info(\"Bokeh: all callbacks have finished\");\n",
              "  }\n",
              "\n",
              "  function load_libs(js_urls, callback) {\n",
              "    root._bokeh_onload_callbacks.push(callback);\n",
              "    if (root._bokeh_is_loading > 0) {\n",
              "      console.log(\"Bokeh: BokehJS is being loaded, scheduling callback at\", now());\n",
              "      return null;\n",
              "    }\n",
              "    if (js_urls == null || js_urls.length === 0) {\n",
              "      run_callbacks();\n",
              "      return null;\n",
              "    }\n",
              "    console.log(\"Bokeh: BokehJS not loaded, scheduling load and callback at\", now());\n",
              "    root._bokeh_is_loading = js_urls.length;\n",
              "    for (var i = 0; i < js_urls.length; i++) {\n",
              "      var url = js_urls[i];\n",
              "      var s = document.createElement('script');\n",
              "      s.src = url;\n",
              "      s.async = false;\n",
              "      s.onreadystatechange = s.onload = function() {\n",
              "        root._bokeh_is_loading--;\n",
              "        if (root._bokeh_is_loading === 0) {\n",
              "          console.log(\"Bokeh: all BokehJS libraries loaded\");\n",
              "          run_callbacks()\n",
              "        }\n",
              "      };\n",
              "      s.onerror = function() {\n",
              "        console.warn(\"failed to load library \" + url);\n",
              "      };\n",
              "      console.log(\"Bokeh: injecting script tag for BokehJS library: \", url);\n",
              "      document.getElementsByTagName(\"head\")[0].appendChild(s);\n",
              "    }\n",
              "  };\n",
              "\n",
              "  var js_urls = [\"https://cdn.pydata.org/bokeh/release/bokeh-1.0.4.min.js\", \"https://cdn.pydata.org/bokeh/release/bokeh-widgets-1.0.4.min.js\", \"https://cdn.pydata.org/bokeh/release/bokeh-tables-1.0.4.min.js\", \"https://cdn.pydata.org/bokeh/release/bokeh-gl-1.0.4.min.js\"];\n",
              "\n",
              "  var inline_js = [\n",
              "    function(Bokeh) {\n",
              "      Bokeh.set_log_level(\"info\");\n",
              "    },\n",
              "    \n",
              "    function(Bokeh) {\n",
              "      \n",
              "    },\n",
              "    function(Bokeh) {\n",
              "      console.log(\"Bokeh: injecting CSS: https://cdn.pydata.org/bokeh/release/bokeh-1.0.4.min.css\");\n",
              "      Bokeh.embed.inject_css(\"https://cdn.pydata.org/bokeh/release/bokeh-1.0.4.min.css\");\n",
              "      console.log(\"Bokeh: injecting CSS: https://cdn.pydata.org/bokeh/release/bokeh-widgets-1.0.4.min.css\");\n",
              "      Bokeh.embed.inject_css(\"https://cdn.pydata.org/bokeh/release/bokeh-widgets-1.0.4.min.css\");\n",
              "      console.log(\"Bokeh: injecting CSS: https://cdn.pydata.org/bokeh/release/bokeh-tables-1.0.4.min.css\");\n",
              "      Bokeh.embed.inject_css(\"https://cdn.pydata.org/bokeh/release/bokeh-tables-1.0.4.min.css\");\n",
              "    }\n",
              "  ];\n",
              "\n",
              "  function run_inline_js() {\n",
              "    \n",
              "    if ((root.Bokeh !== undefined) || (force === true)) {\n",
              "      for (var i = 0; i < inline_js.length; i++) {\n",
              "        inline_js[i].call(root, root.Bokeh);\n",
              "      }} else if (Date.now() < root._bokeh_timeout) {\n",
              "      setTimeout(run_inline_js, 100);\n",
              "    } else if (!root._bokeh_failed_load) {\n",
              "      console.log(\"Bokeh: BokehJS failed to load within specified timeout.\");\n",
              "      root._bokeh_failed_load = true;\n",
              "    } else if (force !== true) {\n",
              "      var cell = $(document.getElementById(null)).parents('.cell').data().cell;\n",
              "      cell.output_area.append_execute_result(NB_LOAD_WARNING)\n",
              "    }\n",
              "\n",
              "  }\n",
              "\n",
              "  if (root._bokeh_is_loading === 0) {\n",
              "    console.log(\"Bokeh: BokehJS loaded, going straight to plotting\");\n",
              "    run_inline_js();\n",
              "  } else {\n",
              "    load_libs(js_urls, function() {\n",
              "      console.log(\"Bokeh: BokehJS plotting callback run at\", now());\n",
              "      run_inline_js();\n",
              "    });\n",
              "  }\n",
              "}(window));"
            ],
            "application/vnd.bokehjs_load.v0+json": "\n(function(root) {\n  function now() {\n    return new Date();\n  }\n\n  var force = true;\n\n  if (typeof (root._bokeh_onload_callbacks) === \"undefined\" || force === true) {\n    root._bokeh_onload_callbacks = [];\n    root._bokeh_is_loading = undefined;\n  }\n\n  \n\n  \n  if (typeof (root._bokeh_timeout) === \"undefined\" || force === true) {\n    root._bokeh_timeout = Date.now() + 5000;\n    root._bokeh_failed_load = false;\n  }\n\n  var NB_LOAD_WARNING = {'data': {'text/html':\n     \"<div style='background-color: #fdd'>\\n\"+\n     \"<p>\\n\"+\n     \"BokehJS does not appear to have successfully loaded. If loading BokehJS from CDN, this \\n\"+\n     \"may be due to a slow or bad network connection. Possible fixes:\\n\"+\n     \"</p>\\n\"+\n     \"<ul>\\n\"+\n     \"<li>re-rerun `output_notebook()` to attempt to load from CDN again, or</li>\\n\"+\n     \"<li>use INLINE resources instead, as so:</li>\\n\"+\n     \"</ul>\\n\"+\n     \"<code>\\n\"+\n     \"from bokeh.resources import INLINE\\n\"+\n     \"output_notebook(resources=INLINE)\\n\"+\n     \"</code>\\n\"+\n     \"</div>\"}};\n\n  function display_loaded() {\n    var el = document.getElementById(null);\n    if (el != null) {\n      el.textContent = \"BokehJS is loading...\";\n    }\n    if (root.Bokeh !== undefined) {\n      if (el != null) {\n        el.textContent = \"BokehJS \" + root.Bokeh.version + \" successfully loaded.\";\n      }\n    } else if (Date.now() < root._bokeh_timeout) {\n      setTimeout(display_loaded, 100)\n    }\n  }\n\n\n  function run_callbacks() {\n    try {\n      root._bokeh_onload_callbacks.forEach(function(callback) { callback() });\n    }\n    finally {\n      delete root._bokeh_onload_callbacks\n    }\n    console.info(\"Bokeh: all callbacks have finished\");\n  }\n\n  function load_libs(js_urls, callback) {\n    root._bokeh_onload_callbacks.push(callback);\n    if (root._bokeh_is_loading > 0) {\n      console.log(\"Bokeh: BokehJS is being loaded, scheduling callback at\", now());\n      return null;\n    }\n    if (js_urls == null || js_urls.length === 0) {\n      run_callbacks();\n      return null;\n    }\n    console.log(\"Bokeh: BokehJS not loaded, scheduling load and callback at\", now());\n    root._bokeh_is_loading = js_urls.length;\n    for (var i = 0; i < js_urls.length; i++) {\n      var url = js_urls[i];\n      var s = document.createElement('script');\n      s.src = url;\n      s.async = false;\n      s.onreadystatechange = s.onload = function() {\n        root._bokeh_is_loading--;\n        if (root._bokeh_is_loading === 0) {\n          console.log(\"Bokeh: all BokehJS libraries loaded\");\n          run_callbacks()\n        }\n      };\n      s.onerror = function() {\n        console.warn(\"failed to load library \" + url);\n      };\n      console.log(\"Bokeh: injecting script tag for BokehJS library: \", url);\n      document.getElementsByTagName(\"head\")[0].appendChild(s);\n    }\n  };\n\n  var js_urls = [\"https://cdn.pydata.org/bokeh/release/bokeh-1.0.4.min.js\", \"https://cdn.pydata.org/bokeh/release/bokeh-widgets-1.0.4.min.js\", \"https://cdn.pydata.org/bokeh/release/bokeh-tables-1.0.4.min.js\", \"https://cdn.pydata.org/bokeh/release/bokeh-gl-1.0.4.min.js\"];\n\n  var inline_js = [\n    function(Bokeh) {\n      Bokeh.set_log_level(\"info\");\n    },\n    \n    function(Bokeh) {\n      \n    },\n    function(Bokeh) {\n      console.log(\"Bokeh: injecting CSS: https://cdn.pydata.org/bokeh/release/bokeh-1.0.4.min.css\");\n      Bokeh.embed.inject_css(\"https://cdn.pydata.org/bokeh/release/bokeh-1.0.4.min.css\");\n      console.log(\"Bokeh: injecting CSS: https://cdn.pydata.org/bokeh/release/bokeh-widgets-1.0.4.min.css\");\n      Bokeh.embed.inject_css(\"https://cdn.pydata.org/bokeh/release/bokeh-widgets-1.0.4.min.css\");\n      console.log(\"Bokeh: injecting CSS: https://cdn.pydata.org/bokeh/release/bokeh-tables-1.0.4.min.css\");\n      Bokeh.embed.inject_css(\"https://cdn.pydata.org/bokeh/release/bokeh-tables-1.0.4.min.css\");\n    }\n  ];\n\n  function run_inline_js() {\n    \n    if ((root.Bokeh !== undefined) || (force === true)) {\n      for (var i = 0; i < inline_js.length; i++) {\n        inline_js[i].call(root, root.Bokeh);\n      }} else if (Date.now() < root._bokeh_timeout) {\n      setTimeout(run_inline_js, 100);\n    } else if (!root._bokeh_failed_load) {\n      console.log(\"Bokeh: BokehJS failed to load within specified timeout.\");\n      root._bokeh_failed_load = true;\n    } else if (force !== true) {\n      var cell = $(document.getElementById(null)).parents('.cell').data().cell;\n      cell.output_area.append_execute_result(NB_LOAD_WARNING)\n    }\n\n  }\n\n  if (root._bokeh_is_loading === 0) {\n    console.log(\"Bokeh: BokehJS loaded, going straight to plotting\");\n    run_inline_js();\n  } else {\n    load_libs(js_urls, function() {\n      console.log(\"Bokeh: BokehJS plotting callback run at\", now());\n      run_inline_js();\n    });\n  }\n}(window));"
          },
          "metadata": {
            "tags": []
          }
        },
        {
          "output_type": "display_data",
          "data": {
            "text/html": [
              "\n",
              "\n",
              "\n",
              "\n",
              "\n",
              "\n",
              "  <div class=\"bk-root\" id=\"03b361ac-b493-492b-af2d-86a87ab5d9f0\" data-root-id=\"1002\"></div>\n"
            ]
          },
          "metadata": {
            "tags": []
          }
        },
        {
          "output_type": "display_data",
          "data": {
            "application/javascript": [
              "(function(root) {\n",
              "  function embed_document(root) {\n",
              "    \n",
              "  var docs_json = {\"9bc23a13-e281-48b3-a7e6-8ab1703ceaa2\":{\"roots\":{\"references\":[{\"attributes\":{\"below\":[{\"id\":\"1012\",\"type\":\"DatetimeAxis\"}],\"left\":[{\"id\":\"1017\",\"type\":\"LinearAxis\"}],\"renderers\":[{\"id\":\"1012\",\"type\":\"DatetimeAxis\"},{\"id\":\"1016\",\"type\":\"Grid\"},{\"id\":\"1017\",\"type\":\"LinearAxis\"},{\"id\":\"1021\",\"type\":\"Grid\"},{\"id\":\"1030\",\"type\":\"BoxAnnotation\"},{\"id\":\"1042\",\"type\":\"GlyphRenderer\"},{\"id\":\"1047\",\"type\":\"GlyphRenderer\"},{\"id\":\"1052\",\"type\":\"GlyphRenderer\"}],\"title\":{\"id\":\"1001\",\"type\":\"Title\"},\"toolbar\":{\"id\":\"1028\",\"type\":\"Toolbar\"},\"x_range\":{\"id\":\"1004\",\"type\":\"Range1d\"},\"x_scale\":{\"id\":\"1008\",\"type\":\"LinearScale\"},\"y_range\":{\"id\":\"1006\",\"type\":\"Range1d\"},\"y_scale\":{\"id\":\"1010\",\"type\":\"LinearScale\"}},\"id\":\"1002\",\"subtype\":\"Figure\",\"type\":\"Plot\"},{\"attributes\":{},\"id\":\"1022\",\"type\":\"PanTool\"},{\"attributes\":{\"line_color\":\"blue\",\"line_width\":2,\"x\":{\"field\":\"x\"},\"y\":{\"field\":\"y\"}},\"id\":\"1050\",\"type\":\"Line\"},{\"attributes\":{},\"id\":\"1069\",\"type\":\"YearsTicker\"},{\"attributes\":{},\"id\":\"1023\",\"type\":\"WheelZoomTool\"},{\"attributes\":{\"line_alpha\":0.1,\"line_color\":\"#1f77b4\",\"line_width\":2,\"x\":{\"field\":\"x\"},\"y\":{\"field\":\"y\"}},\"id\":\"1051\",\"type\":\"Line\"},{\"attributes\":{},\"id\":\"1070\",\"type\":\"Selection\"},{\"attributes\":{\"overlay\":{\"id\":\"1030\",\"type\":\"BoxAnnotation\"}},\"id\":\"1024\",\"type\":\"BoxZoomTool\"},{\"attributes\":{\"data_source\":{\"id\":\"1049\",\"type\":\"ColumnDataSource\"},\"glyph\":{\"id\":\"1050\",\"type\":\"Line\"},\"hover_glyph\":null,\"muted_glyph\":null,\"nonselection_glyph\":{\"id\":\"1051\",\"type\":\"Line\"},\"selection_glyph\":null,\"view\":{\"id\":\"1053\",\"type\":\"CDSView\"}},\"id\":\"1052\",\"type\":\"GlyphRenderer\"},{\"attributes\":{},\"id\":\"1071\",\"type\":\"UnionRenderers\"},{\"attributes\":{\"plot\":null,\"text\":\"Sample Graph\"},\"id\":\"1001\",\"type\":\"Title\"},{\"attributes\":{},\"id\":\"1025\",\"type\":\"SaveTool\"},{\"attributes\":{\"data_source\":{\"id\":\"1039\",\"type\":\"ColumnDataSource\"},\"glyph\":{\"id\":\"1040\",\"type\":\"Line\"},\"hover_glyph\":null,\"muted_glyph\":null,\"nonselection_glyph\":{\"id\":\"1041\",\"type\":\"Line\"},\"selection_glyph\":null,\"view\":{\"id\":\"1043\",\"type\":\"CDSView\"}},\"id\":\"1042\",\"type\":\"GlyphRenderer\"},{\"attributes\":{\"source\":{\"id\":\"1049\",\"type\":\"ColumnDataSource\"}},\"id\":\"1053\",\"type\":\"CDSView\"},{\"attributes\":{},\"id\":\"1072\",\"type\":\"Selection\"},{\"attributes\":{},\"id\":\"1026\",\"type\":\"ResetTool\"},{\"attributes\":{},\"id\":\"1073\",\"type\":\"UnionRenderers\"},{\"attributes\":{},\"id\":\"1027\",\"type\":\"HelpTool\"},{\"attributes\":{\"callback\":null,\"end\":1574726400000.0,\"start\":1574467200000.0},\"id\":\"1004\",\"type\":\"Range1d\"},{\"attributes\":{},\"id\":\"1057\",\"type\":\"BasicTickFormatter\"},{\"attributes\":{},\"id\":\"1074\",\"type\":\"Selection\"},{\"attributes\":{\"active_drag\":\"auto\",\"active_inspect\":\"auto\",\"active_multi\":null,\"active_scroll\":\"auto\",\"active_tap\":\"auto\",\"tools\":[{\"id\":\"1022\",\"type\":\"PanTool\"},{\"id\":\"1023\",\"type\":\"WheelZoomTool\"},{\"id\":\"1024\",\"type\":\"BoxZoomTool\"},{\"id\":\"1025\",\"type\":\"SaveTool\"},{\"id\":\"1026\",\"type\":\"ResetTool\"},{\"id\":\"1027\",\"type\":\"HelpTool\"}]},\"id\":\"1028\",\"type\":\"Toolbar\"},{\"attributes\":{},\"id\":\"1075\",\"type\":\"UnionRenderers\"},{\"attributes\":{\"bottom_units\":\"screen\",\"fill_alpha\":{\"value\":0.5},\"fill_color\":{\"value\":\"lightgrey\"},\"left_units\":\"screen\",\"level\":\"overlay\",\"line_alpha\":{\"value\":1.0},\"line_color\":{\"value\":\"black\"},\"line_dash\":[4,4],\"line_width\":{\"value\":2},\"plot\":null,\"render_mode\":\"css\",\"right_units\":\"screen\",\"top_units\":\"screen\"},\"id\":\"1030\",\"type\":\"BoxAnnotation\"},{\"attributes\":{\"mantissas\":[1,2,5],\"max_interval\":500.0,\"num_minor_ticks\":0},\"id\":\"1058\",\"type\":\"AdaptiveTicker\"},{\"attributes\":{\"base\":60,\"mantissas\":[1,2,5,10,15,20,30],\"max_interval\":1800000.0,\"min_interval\":1000.0,\"num_minor_ticks\":0},\"id\":\"1059\",\"type\":\"AdaptiveTicker\"},{\"attributes\":{\"callback\":null,\"end\":100.0},\"id\":\"1006\",\"type\":\"Range1d\"},{\"attributes\":{\"base\":24,\"mantissas\":[1,2,4,6,8,12],\"max_interval\":43200000.0,\"min_interval\":3600000.0,\"num_minor_ticks\":0},\"id\":\"1060\",\"type\":\"AdaptiveTicker\"},{\"attributes\":{\"line_alpha\":0.1,\"line_color\":\"#1f77b4\",\"line_width\":2,\"x\":{\"field\":\"x\"},\"y\":{\"field\":\"y\"}},\"id\":\"1041\",\"type\":\"Line\"},{\"attributes\":{\"days\":[1,2,3,4,5,6,7,8,9,10,11,12,13,14,15,16,17,18,19,20,21,22,23,24,25,26,27,28,29,30,31]},\"id\":\"1061\",\"type\":\"DaysTicker\"},{\"attributes\":{},\"id\":\"1010\",\"type\":\"LinearScale\"},{\"attributes\":{\"callback\":null,\"data\":{\"x\":{\"__ndarray__\":\"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\",\"dtype\":\"float64\",\"shape\":[478]},\"y\":{\"__ndarray__\":\"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\",\"dtype\":\"float64\",\"shape\":[478]}},\"selected\":{\"id\":\"1074\",\"type\":\"Selection\"},\"selection_policy\":{\"id\":\"1075\",\"type\":\"UnionRenderers\"}},\"id\":\"1049\",\"type\":\"ColumnDataSource\"},{\"attributes\":{},\"id\":\"1008\",\"type\":\"LinearScale\"},{\"attributes\":{\"days\":[1,4,7,10,13,16,19,22,25,28]},\"id\":\"1062\",\"type\":\"DaysTicker\"},{\"attributes\":{\"callback\":null,\"data\":{\"x\":{\"__ndarray__\":\"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\",\"dtype\":\"float64\",\"shape\":[478]},\"y\":{\"__ndarray__\":\"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\",\"dtype\":\"float64\",\"shape\":[478]}},\"selected\":{\"id\":\"1072\",\"type\":\"Selection\"},\"selection_policy\":{\"id\":\"1073\",\"type\":\"UnionRenderers\"}},\"id\":\"1044\",\"type\":\"ColumnDataSource\"},{\"attributes\":{\"axis_label\":\"Value\",\"formatter\":{\"id\":\"1057\",\"type\":\"BasicTickFormatter\"},\"plot\":{\"id\":\"1002\",\"subtype\":\"Figure\",\"type\":\"Plot\"},\"ticker\":{\"id\":\"1018\",\"type\":\"BasicTicker\"}},\"id\":\"1017\",\"type\":\"LinearAxis\"},{\"attributes\":{\"days\":[1,8,15,22]},\"id\":\"1063\",\"type\":\"DaysTicker\"},{\"attributes\":{\"line_color\":\"blue\",\"line_width\":2,\"x\":{\"field\":\"x\"},\"y\":{\"field\":\"y\"}},\"id\":\"1045\",\"type\":\"Line\"},{\"attributes\":{\"days\":[1,15]},\"id\":\"1064\",\"type\":\"DaysTicker\"},{\"attributes\":{\"axis_label\":\"Timestamp\",\"formatter\":{\"id\":\"1037\",\"type\":\"DatetimeTickFormatter\"},\"plot\":{\"id\":\"1002\",\"subtype\":\"Figure\",\"type\":\"Plot\"},\"ticker\":{\"id\":\"1013\",\"type\":\"DatetimeTicker\"}},\"id\":\"1012\",\"type\":\"DatetimeAxis\"},{\"attributes\":{},\"id\":\"1018\",\"type\":\"BasicTicker\"},{\"attributes\":{\"line_color\":\"red\",\"line_width\":2,\"x\":{\"field\":\"x\"},\"y\":{\"field\":\"y\"}},\"id\":\"1040\",\"type\":\"Line\"},{\"attributes\":{\"line_alpha\":0.1,\"line_color\":\"#1f77b4\",\"line_width\":2,\"x\":{\"field\":\"x\"},\"y\":{\"field\":\"y\"}},\"id\":\"1046\",\"type\":\"Line\"},{\"attributes\":{\"dimension\":1,\"plot\":{\"id\":\"1002\",\"subtype\":\"Figure\",\"type\":\"Plot\"},\"ticker\":{\"id\":\"1018\",\"type\":\"BasicTicker\"}},\"id\":\"1021\",\"type\":\"Grid\"},{\"attributes\":{\"months\":[0,1,2,3,4,5,6,7,8,9,10,11]},\"id\":\"1065\",\"type\":\"MonthsTicker\"},{\"attributes\":{\"num_minor_ticks\":5,\"tickers\":[{\"id\":\"1058\",\"type\":\"AdaptiveTicker\"},{\"id\":\"1059\",\"type\":\"AdaptiveTicker\"},{\"id\":\"1060\",\"type\":\"AdaptiveTicker\"},{\"id\":\"1061\",\"type\":\"DaysTicker\"},{\"id\":\"1062\",\"type\":\"DaysTicker\"},{\"id\":\"1063\",\"type\":\"DaysTicker\"},{\"id\":\"1064\",\"type\":\"DaysTicker\"},{\"id\":\"1065\",\"type\":\"MonthsTicker\"},{\"id\":\"1066\",\"type\":\"MonthsTicker\"},{\"id\":\"1067\",\"type\":\"MonthsTicker\"},{\"id\":\"1068\",\"type\":\"MonthsTicker\"},{\"id\":\"1069\",\"type\":\"YearsTicker\"}]},\"id\":\"1013\",\"type\":\"DatetimeTicker\"},{\"attributes\":{\"days\":[\"%d %B %Y\"],\"hours\":[\"%d %B %Y\"],\"months\":[\"%d %B %Y\"],\"years\":[\"%d %B %Y\"]},\"id\":\"1037\",\"type\":\"DatetimeTickFormatter\"},{\"attributes\":{\"data_source\":{\"id\":\"1044\",\"type\":\"ColumnDataSource\"},\"glyph\":{\"id\":\"1045\",\"type\":\"Line\"},\"hover_glyph\":null,\"muted_glyph\":null,\"nonselection_glyph\":{\"id\":\"1046\",\"type\":\"Line\"},\"selection_glyph\":null,\"view\":{\"id\":\"1048\",\"type\":\"CDSView\"}},\"id\":\"1047\",\"type\":\"GlyphRenderer\"},{\"attributes\":{\"source\":{\"id\":\"1039\",\"type\":\"ColumnDataSource\"}},\"id\":\"1043\",\"type\":\"CDSView\"},{\"attributes\":{\"months\":[0,2,4,6,8,10]},\"id\":\"1066\",\"type\":\"MonthsTicker\"},{\"attributes\":{\"source\":{\"id\":\"1044\",\"type\":\"ColumnDataSource\"}},\"id\":\"1048\",\"type\":\"CDSView\"},{\"attributes\":{\"months\":[0,4,8]},\"id\":\"1067\",\"type\":\"MonthsTicker\"},{\"attributes\":{\"callback\":null,\"data\":{\"x\":{\"__ndarray__\":\"6cp0T1npdkLTlamwWel2Qrxg3hFa6XZCpisTc1rpdkKP9kfUWul2QnnBfDVb6XZCYoyxllvpdkJMV+b3W+l2QjUiG1lc6XZCH+1PulzpdkIIuIQbXel2QvKCuXxd6XZC203u3V3pdkLFGCM/Xul2Qq7jV6Be6XZCmK6MAV/pdkKBecFiX+l2QmpE9sNf6XZCWA8rJWDpdkJC2l+GYOl2QiullOdg6XZCFHDJSGHpdkL+Ov6pYel2QucFMwti6XZC0dBnbGLpdkK6m5zNYul2QqRm0S5j6XZCjTEGkGPpdkJ3/DrxY+l2QmDHb1Jk6XZCSpKks2TpdkIzXdkUZel2Qh0oDnZl6XZCBvNC12XpdkLwvXc4Zul2QtmIrJlm6XZCw1Ph+mbpdkKsHhZcZ+l2QpbpSr1n6XZCf7R/HmjpdkJof7R/aOl2QlJK6eBo6XZCOxUeQmnpdkIl4FKjael2Qg6rhwRq6XZC+HW8ZWrpdkLhQPHGaul2QssLJihr6XZCtNZaiWvpdkKeoY/qa+l2QodsxEts6XZCcTf5rGzpdkJaAi4Obel2QkTNYm9t6XZCMZiX0G3pdkIbY8wxbul2QgQuAZNu6XZC7vg19G7pdkLXw2pVb+l2QsGOn7Zv6XZCqlnUF3DpdkKTJAl5cOl2Qn3vPdpw6XZCZrpyO3HpdkJQhaeccel2QjlQ3P1x6XZCIxsRX3LpdkIM5kXAcul2QvaweiFz6XZC33uvgnPpdkLJRuTjc+l2QrIRGUV06XZCnNxNpnTpdkKFp4IHdel2Qm9yt2h16XZCWD3syXXpdkJCCCErdul2QivTVYx26XZCFJ6K7XbpdkL+aL9Od+l2Qucz9K936XZC0f4oEXjpdkK6yV1yeOl2QqSUktN46XZCjV/HNHnpdkJ3KvyVeel2QmD1MPd56XZCSsBlWHrpdkIzi5q5eul2Qh1Wzxp76XZCCiEEfHvpdkL06zjde+l2Qt22bT586XZCx4Gin3zpdkKwTNcAfel2QpoXDGJ96XZCg+JAw33pdkJtrXUkful2QlZ4qoV+6XZCP0Pf5n7pdkIpDhRIf+l2QhLZSKl/6XZC/KN9CoDpdkLlbrJrgOl2Qs8558yA6XZCuAQcLoHpdkKiz1CPgel2QouahfCB6XZCdWW6UYLpdkJeMO+ygul2Qkj7IxSD6XZCMcZYdYPpdkIbkY3Wg+l2QgRcwjeE6XZC7ib3mITpdkLX8Sv6hOl2QsG8YFuF6XZCqoeVvIXpdkKTUsodhul2Qn0d/36G6XZCZugz4IbpdkJQs2hBh+l2Qjl+naKH6XZCI0nSA4jpdkIMFAdliOl2QvbeO8aI6XZC46lwJ4npdkLNdKWIiel2QrY/2umJ6XZCoAoPS4rpdkKJ1UOsiul2QnOgeA2L6XZCXGutbovpdkJGNuLPi+l2Qi8BFzGM6XZCGcxLkozpdkICl4DzjOl2QuxhtVSN6XZC1SzqtY3pdkK+9x4Xjul2QqjCU3iO6XZCkY2I2Y7pdkJ7WL06j+l2QmQj8puP6XZCTu4m/Y/pdkI3uVtekOl2QiGEkL+Q6XZCCk/FIJHpdkL0GfqBkel2Qt3kLuOR6XZCx69jRJLpdkKwepilkul2QppFzQaT6XZCgxACaJPpdkJt2zbJk+l2QlamayqU6XZCP3Ggi5TpdkIpPNXslOl2QhIHCk6V6XZC/NE+r5XpdkLlnHMQlul2Qs9nqHGW6XZCvDLd0pbpdkKm/RE0l+l2Qo/IRpWX6XZCeZN79pfpdkJiXrBXmOl2Qkwp5biY6XZCNfQZGpnpdkIfv057mel2QgiKg9yZ6XZC8lS4PZrpdkLbH+2emul2QsXqIQCb6XZCrrVWYZvpdkKYgIvCm+l2QoFLwCOc6XZCahb1hJzpdkJU4SnmnOl2Qj2sXked6XZCJ3eTqJ3pdkIQQsgJnul2QvoM/Wqe6XZC49cxzJ7pdkLNomYtn+l2QrZtm46f6XZCoDjQ75/pdkKJAwVRoOl2QnPOObKg6XZCXJluE6HpdkJGZKN0oel2Qi8v2NWh6XZCGfoMN6LpdkICxUGYoul2QuyPdvmi6XZC1VqrWqPpdkK+JeC7o+l2QqjwFB2k6XZClrtJfqTpdkJ/hn7fpOl2QmhRs0Cl6XZCUhzooaXpdkI75xwDpul2QiWyUWSm6XZCDn2GxabpdkL4R7smp+l2QuES8Ien6XZCy90k6afpdkK0qFlKqOl2Qp5zjquo6XZChz7DDKnpdkJxCfhtqel2QlrULM+p6XZCRJ9hMKrpdkItapaRqul2Qhc1y/Kq6XZCAAAAVKvpdkLpyjS1q+l2QtOVaRas6XZCvGCed6zpdkKmK9PYrOl2Qo/2Bzqt6XZCecE8m63pdkJijHH8rel2QkxXpl2u6XZCNSLbvq7pdkIf7Q8gr+l2Qgi4RIGv6XZC8oJ54q/pdkLbTa5DsOl2QsUY46Sw6XZCruMXBrHpdkKYrkxnsel2QoF5gcix6XZCakS2KbLpdkJYD+uKsul2QkLaH+yy6XZCK6VUTbPpdkIUcImus+l2Qv46vg+06XZC5wXzcLTpdkLR0CfStOl2QrqbXDO16XZCpGaRlLXpdkKNMcb1tel2Qnf8+la26XZCYMcvuLbpdkJKkmQZt+l2QjNdmXq36XZCHSjO27fpdkIG8wI9uOl2QvC9N5646XZC2Yhs/7jpdkLDU6Fguel2Qqwe1sG56XZClukKI7rpdkJ/tD+Euul2Qmh/dOW66XZCUkqpRrvpdkI7Fd6nu+l2QiXgEgm86XZCDqtHarzpdkL4dXzLvOl2QuFAsSy96XZCywvmjb3pdkK01hrvvel2Qp6hT1C+6XZCh2yEsb7pdkJxN7kSv+l2QloC7nO/6XZCRM0i1b/pdkIxmFc2wOl2QhtjjJfA6XZCBC7B+MDpdkLu+PVZwel2QtfDKrvB6XZCwY5fHMLpdkKqWZR9wul2QpMkyd7C6XZCfe/9P8PpdkJmujKhw+l2QlCFZwLE6XZCOVCcY8TpdkIjG9HExOl2QgzmBSbF6XZC9rA6h8XpdkLfe2/oxel2QslGpEnG6XZCshHZqsbpdkKc3A0Mx+l2QoWnQm3H6XZCb3J3zsfpdkJYPawvyOl2QkII4ZDI6XZCK9MV8sjpdkIUnkpTyel2Qv5of7TJ6XZC5zO0FcrpdkLR/uh2yul2QrrJHdjK6XZCpJRSOcvpdkKNX4eay+l2QncqvPvL6XZCYPXwXMzpdkJKwCW+zOl2QjOLWh/N6XZCHVaPgM3pdkIKIcThzel2QvTr+ELO6XZC3bYtpM7pdkLHgWIFz+l2QrBMl2bP6XZCmhfMx8/pdkKD4gAp0Ol2Qm2tNYrQ6XZCVnhq69DpdkI/Q59M0el2QikO1K3R6XZCEtkID9LpdkL8oz1w0ul2QuVuctHS6XZCzzmnMtPpdkK4BNyT0+l2QqLPEPXT6XZCi5pFVtTpdkJ1ZXq31Ol2Ql4wrxjV6XZCSPvjedXpdkIxxhjb1el2QhuRTTzW6XZCBFyCndbpdkLuJrf+1ul2Qtfx61/X6XZCwbwgwdfpdkKqh1Ui2Ol2QpNSioPY6XZCfR2/5NjpdkJm6PNF2el2QlCzKKfZ6XZCOX5dCNrpdkIjSZJp2ul2QgwUx8ra6XZC9t77K9vpdkLjqTCN2+l2Qs10Ze7b6XZCtj+aT9zpdkKgCs+w3Ol2QonVAxLd6XZCc6A4c93pdkJca23U3el2QkY2ojXe6XZCLwHXlt7pdkIZzAv43ul2QgKXQFnf6XZC7GF1ut/pdkLVLKob4Ol2Qr733nzg6XZCqMIT3uDpdkKRjUg/4el2QntYfaDh6XZCZCOyAeLpdkJO7uZi4ul2Qje5G8Ti6XZCIYRQJePpdkIKT4WG4+l2QvQZuufj6XZC3eTuSOTpdkLHryOq5Ol2QrB6WAvl6XZCmkWNbOXpdkKDEMLN5el2Qm3b9i7m6XZCVqYrkObpdkI/cWDx5ul2Qik8lVLn6XZCEgfKs+fpdkL80f4U6Ol2QuWcM3bo6XZCz2do1+jpdkK8Mp046el2Qqb90Znp6XZCj8gG++npdkJ5kztc6ul2QmJecL3q6XZCTCmlHuvpdkI19Nl/6+l2Qh+/DuHr6XZCCIpDQuzpdkLyVHij7Ol2QtsfrQTt6XZCxerhZe3pdkKutRbH7el2QpiASyju6XZCgUuAie7pdkJqFrXq7ul2QlTh6Uvv6XZCPawere/pdkInd1MO8Ol2QhBCiG/w6XZC+gy90PDpdkLj1/Ex8el2Qs2iJpPx6XZCtm1b9PHpdkKgOJBV8ul2QokDxbby6XZCc875F/PpdkJcmS558+l2QkZkY9rz6XZCLy+YO/TpdkIZ+syc9Ol2QgLFAf706XZC7I82X/XpdkLVWmvA9el2Qr4loCH26XZCqPDUgvbpdkKWuwnk9ul2Qn+GPkX36XZCaFFzpvfpdkJSHKgH+Ol2Qjvn3Gj46XZCJbIRyvjpdkIOfUYr+el2QvhHe4z56XZC4RKw7fnpdkLL3eRO+ul2QrSoGbD66XZCnnNOEfvpdkKHPoNy++l2QnEJuNP76XZCWtTsNPzpdkJEnyGW/Ol2Qi1qVvf86XZCFzWLWP3pdkIAAMC5/el2QunK9Br+6XZC05UpfP7pdkK8YF7d/ul2QqYrkz7/6XZCj/bHn//pdkJ5wfwAAOp2QmKMMWIA6nZCTFdmwwDqdkI1IpskAep2Qh/tz4UB6nZCCLgE5wHqdkLygjlIAup2QttNbqkC6nZCxRijCgPqdkKu49drA+p2QpiuDM0D6nZCgXlBLgTqdkJqRHaPBOp2QlgPq/AE6nZCQtrfUQXqdkIrpRSzBep2QhRwSRQG6nZC/jp+dQbqdkLnBbPWBup2QtHQ5zcH6nZCupscmQfqdkKkZlH6B+p2Qo0xhlsI6nZCd/y6vAjqdkJgx+8dCep2QkqSJH8J6nZCM11Z4AnqdkIdKI5BCup2QgbzwqIK6nZC8L33AwvqdkLZiCxlC+p2QsNTYcYL6nZCrB6WJwzqdkKW6cqIDOp2Qn+0/+kM6nZCaH80Sw3qdkJSSmmsDep2QjsVng0O6nZCJeDSbg7qdkI=\",\"dtype\":\"float64\",\"shape\":[478]},\"y\":{\"__ndarray__\":\"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\",\"dtype\":\"float64\",\"shape\":[478]}},\"selected\":{\"id\":\"1070\",\"type\":\"Selection\"},\"selection_policy\":{\"id\":\"1071\",\"type\":\"UnionRenderers\"}},\"id\":\"1039\",\"type\":\"ColumnDataSource\"},{\"attributes\":{\"months\":[0,6]},\"id\":\"1068\",\"type\":\"MonthsTicker\"},{\"attributes\":{\"plot\":{\"id\":\"1002\",\"subtype\":\"Figure\",\"type\":\"Plot\"},\"ticker\":{\"id\":\"1013\",\"type\":\"DatetimeTicker\"}},\"id\":\"1016\",\"type\":\"Grid\"}],\"root_ids\":[\"1002\"]},\"title\":\"Bokeh Application\",\"version\":\"1.0.4\"}};\n",
              "  var render_items = [{\"docid\":\"9bc23a13-e281-48b3-a7e6-8ab1703ceaa2\",\"roots\":{\"1002\":\"03b361ac-b493-492b-af2d-86a87ab5d9f0\"}}];\n",
              "  root.Bokeh.embed.embed_items_notebook(docs_json, render_items);\n",
              "\n",
              "  }\n",
              "  if (root.Bokeh !== undefined) {\n",
              "    embed_document(root);\n",
              "  } else {\n",
              "    var attempts = 0;\n",
              "    var timer = setInterval(function(root) {\n",
              "      if (root.Bokeh !== undefined) {\n",
              "        embed_document(root);\n",
              "        clearInterval(timer);\n",
              "      }\n",
              "      attempts++;\n",
              "      if (attempts > 100) {\n",
              "        console.log(\"Bokeh: ERROR: Unable to run BokehJS code because BokehJS library is missing\");\n",
              "        clearInterval(timer);\n",
              "      }\n",
              "    }, 10, root)\n",
              "  }\n",
              "})(window);"
            ],
            "application/vnd.bokehjs_exec.v0+json": ""
          },
          "metadata": {
            "tags": [],
            "application/vnd.bokehjs_exec.v0+json": {
              "id": "1002"
            }
          }
        }
      ]
    },
    {
      "cell_type": "code",
      "metadata": {
        "id": "5fHEZiZL1Hpd",
        "colab_type": "code",
        "outputId": "98378523-b9bb-44da-ab12-a77af2dae0b6",
        "colab": {
          "base_uri": "https://localhost:8080/",
          "height": 443
        }
      },
      "source": [
        "with_prediction_img"
      ],
      "execution_count": 0,
      "outputs": [
        {
          "output_type": "execute_result",
          "data": {
            "image/png": "[encoded data removed]",
            "text/plain": [
              "<PIL.PngImagePlugin.PngImageFile image mode=RGB size=600x426 at 0x7F3B133B2DA0>"
            ]
          },
          "metadata": {
            "tags": []
          },
          "execution_count": 37
        }
      ]
    },
    {
      "cell_type": "markdown",
      "metadata": {
        "id": "Sq0RSw5U7elZ",
        "colab_type": "text"
      },
      "source": [
        "Export as CSV."
      ]
    },
    {
      "cell_type": "code",
      "metadata": {
        "id": "uBiFMiDayjhX",
        "colab_type": "code",
        "colab": {}
      },
      "source": [
        "export_df = prediction_df.drop(['Timestamp'], axis=1)\n",
        "export_df.to_csv('/content/out.csv', index=False)"
      ],
      "execution_count": 0,
      "outputs": []
    },
    {
      "cell_type": "code",
      "metadata": {
        "id": "uFxtke8Q0VAx",
        "colab_type": "code",
        "colab": {}
      },
      "source": [
        ""
      ],
      "execution_count": 0,
      "outputs": []
    }
  ]
}